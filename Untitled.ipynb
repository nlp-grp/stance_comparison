{
 "cells": [
  {
   "cell_type": "code",
   "execution_count": 1,
   "id": "083fb490-122d-4c1d-bf48-a226e504b2ac",
   "metadata": {},
   "outputs": [],
   "source": [
    "import string\n",
    "import re\n",
    "import os\n",
    "import nltk\n",
    "import pandas as pd\n",
    "import numpy as np\n",
    "import json\n",
    "import tensorflow as tf\n",
    "from tensorflow import keras\n",
    "SEED = 1013\n",
    "np.random.seed(SEED)\n",
    "#nltk.download('stopwords')\n",
    "from nltk.tokenize import TweetTokenizer\n",
    "from nltk.corpus import stopwords, twitter_samples \n",
    "from stance_utils import *\n",
    "from stance_models import * \n",
    "#from parameters import *\n",
    "from nltk.stem import PorterStemmer\n",
    "from sklearn.metrics import classification_report\n",
    "from sklearn.feature_extraction.text import CountVectorizer\n",
    "from tensorflow.keras.preprocessing.text import Tokenizer\n",
    "from tensorflow.keras.preprocessing.sequence import pad_sequences\n",
    "from tensorflow.keras import Sequential\n",
    "#from tensorflow.keras.layers import Dropout,Concatenate,Dense, Embedding, SpatialDropout1D, Flatten, GRU, Bidirectional, Conv1D,MaxPooling1D\n",
    "\n",
    "from tensorflow.keras.layers import RNN, Dropout,Concatenate,Dense, Embedding,LSTMCell, LSTM, SpatialDropout1D, Flatten, GRU, Bidirectional, Conv1D, Input,MaxPooling1D\n",
    "from sklearn.model_selection import train_test_split\n",
    "from tensorflow.keras import Model\n",
    "from sklearn.model_selection import StratifiedKFold\n",
    "stemmer = PorterStemmer()\n",
    "tokenizer = TweetTokenizer(preserve_case=False, strip_handles=True, reduce_len=True)\n",
    "stopwords_english = stopwords.words('english')\n",
    "from sklearn.preprocessing import LabelEncoder\n",
    "import keras.backend as K\n",
    "from keras.layers import Lambda\n",
    "import random\n",
    "import matplotlib.pyplot as plt\n",
    "import time\n",
    "start_time = time.time()"
   ]
  },
  {
   "cell_type": "code",
   "execution_count": 32,
   "id": "5c9196d8-29ff-4f31-81e9-976ac36790aa",
   "metadata": {},
   "outputs": [],
   "source": [
    "classes = {'FAVOR': np.array([1, 0, 0]), 'AGAINST': np.array([0, 1, 0]), 'NONE': np.array([0, 0, 1])}\n",
    "classes_ = np.array(['FAVOR', 'AGAINST', 'NONE'])\n",
    "\n",
    "# train_data_file = '/data/parush/stance_mohammed/new_train.txt'\n",
    "# test_data_file = '/data/parush/stance_mohammed/new_test.txt'\n",
    "# TARGETS = [ 'Atheism','Climate Change is a Real Concern', 'Feminist Movement','Hillary Clinton', 'Legalization of Abortion', 'Donald Trump']\n",
    "\n",
    "\n",
    "# train_data_file = '/data/parush/SomasundaranWiebe-politicalDebates/train.txt'\n",
    "# test_data_file = '/data/parush/SomasundaranWiebe-politicalDebates/test.txt'\n",
    "# TARGETS = ['god','healthcare','guns','gayRights','abortion', 'creation']\n",
    "\n",
    "\n",
    "train_data_file = '/data/parush/Data_MPCHI/train.txt'\n",
    "test_data_file = '/data/parush/Data_MPCHI/test.txt'\n",
    "TARGETS = ['Are E-Cigarettes safe?','Does MMR Vaccine lead to autism in children?',\n",
    "      'Does Sunlight exposure lead to skin cancer?','Does Vitamin C prevent common cold?',\n",
    "      'Should women take HRT post-menopause?']\n",
    "\n",
    "stance_target = TARGETS[1]"
   ]
  },
  {
   "cell_type": "code",
   "execution_count": 33,
   "id": "5b0ed43c-e489-450d-9beb-8bed2add680d",
   "metadata": {},
   "outputs": [],
   "source": [
    "def train_and_test(train_file, test_file, target):\n",
    "    print('For target: ', target)\n",
    "    \n",
    "    \n",
    "    sentence_len = 0\n",
    "    sentence_len_list = []\n",
    "\n",
    "\n",
    "    \n",
    "    with open(train_file, 'r') as trainfile:\n",
    "        \n",
    "        for line in trainfile: \n",
    "            line = line.replace('#SemST', '').strip()\n",
    "            line = line.split('\\t')\n",
    "            \n",
    "            \n",
    "            \n",
    "            #if line[0].strip() != 'ID' and target in line[1].strip():\n",
    "            if line[0].strip() != 'ID':  #Uncomment this line if training on wholedataset and comment the line above.\n",
    "                tweet = line[2]\n",
    "                sentence_len_list.append(len(tweet))\n",
    "                \n",
    "                \n",
    "                \n",
    "    \n",
    "\n",
    "                               \n",
    "\n",
    "    with open(test_file, 'r') as testfile:\n",
    "        for line in testfile:\n",
    "            line = line.replace('#SemST', '').strip()\n",
    "            line = line.split('\\t')\n",
    "        \n",
    "\n",
    "            \n",
    "            #if line[0] != 'ID' and target in line[1].strip():\n",
    "            if line[0].strip() != 'ID': #Uncomment this line if testing on wholedataset and comment the line above.\n",
    "                tweet = line[2]\n",
    "                sentence_len_list.append(len(tweet))\n",
    "\n",
    "\n",
    "\n",
    "    print(\"Number of examples are \", len(sentence_len_list))\n",
    "    print(\"Average Sentence Length \", np.mean(sentence_len_list))\n",
    "    print()\n",
    "    return "
   ]
  },
  {
   "cell_type": "code",
   "execution_count": 34,
   "id": "5a7283eb-ead4-4f1d-ae62-b1bf50d0c419",
   "metadata": {},
   "outputs": [
    {
     "name": "stdout",
     "output_type": "stream",
     "text": [
      "For target:  Does MMR Vaccine lead to autism in children?\n",
      "Number of examples are  1535\n",
      "Average Sentence Length  143.18957654723127\n",
      "\n"
     ]
    }
   ],
   "source": [
    "\n",
    "train_and_test(train_data_file, test_data_file, stance_target)\n",
    "    "
   ]
  },
  {
   "cell_type": "code",
   "execution_count": 10,
   "id": "41cdf147-b975-4cb7-9287-010127ae9b29",
   "metadata": {},
   "outputs": [
    {
     "data": {
      "text/plain": [
       "733"
      ]
     },
     "execution_count": 10,
     "metadata": {},
     "output_type": "execute_result"
    }
   ],
   "source": []
  },
  {
   "cell_type": "code",
   "execution_count": null,
   "id": "5378a761-b593-4cf2-9d22-3dec0b7a54f4",
   "metadata": {},
   "outputs": [],
   "source": []
  }
 ],
 "metadata": {
  "kernelspec": {
   "display_name": "nlpKernel",
   "language": "python",
   "name": "nlpkernel"
  },
  "language_info": {
   "codemirror_mode": {
    "name": "ipython",
    "version": 3
   },
   "file_extension": ".py",
   "mimetype": "text/x-python",
   "name": "python",
   "nbconvert_exporter": "python",
   "pygments_lexer": "ipython3",
   "version": "3.9.6"
  }
 },
 "nbformat": 4,
 "nbformat_minor": 5
}
